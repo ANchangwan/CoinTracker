{
 "cells": [
  {
   "cell_type": "markdown",
   "metadata": {},
   "source": [
    "travel = [\n",
    "    \"Gwanghwamun in Seoul\", \"jeonju Hanok Village\", \"Odongdo Island in Yeosu\"\n",
    "]\n",
    "found = False # 지역을 찾았는지 확인 boolean\n",
    "\n",
    "search = input(\"Enter a city : \").lower()  # 대문자를 소문자로 통일\n",
    "place = search # 지역을 없을 경우 if not found 문을 출력 하기 위해 search value를 place에 저장\n",
    "for find in travel:  # travel에서 배열을 하나씩 반복문을 통해서 하나씩 find로 출력\n",
    "  if search in find.lower().split(\" \"): # split를 통해서 띄어쓰기로 구분해서 배열 출력하고 in을 통해 search 값에 있는지 확인\n",
    "    found = True # 지역을 찾아서 True로 변경\n",
    "    print(f\"{search} is in your travel itinerary!\")  # find를 출력\n",
    "    break # 발견시 실행 컨테스트 탈출\n",
    "\n",
    "if not found: # found가 False 시 실행\n",
    "  print(f\"Sorry, {place} is not in your travel itinerary\")\n"
   ]
  },
  {
   "cell_type": "markdown",
   "metadata": {},
   "source": [
    "\n",
    "학번 :2313004\n",
    "학과 : 디지털미디어디자인학과\n",
    "이름 : 김민주"
   ]
  }
 ],
 "metadata": {
  "language_info": {
   "name": "python"
  },
  "orig_nbformat": 4
 },
 "nbformat": 4,
 "nbformat_minor": 2
}
